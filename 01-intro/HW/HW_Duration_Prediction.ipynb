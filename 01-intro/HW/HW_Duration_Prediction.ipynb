{
  "nbformat": 4,
  "nbformat_minor": 0,
  "metadata": {
    "colab": {
      "provenance": [],
      "toc_visible": true
    },
    "kernelspec": {
      "name": "python3",
      "display_name": "Python 3"
    },
    "language_info": {
      "name": "python"
    }
  },
  "cells": [
    {
      "cell_type": "code",
      "execution_count": 1,
      "metadata": {
        "id": "a-0zuXJLjMcu"
      },
      "outputs": [],
      "source": [
        "import pandas as pd\n",
        "import pickle\n",
        "import seaborn as sns\n",
        "import matplotlib.pyplot as plt"
      ]
    },
    {
      "cell_type": "code",
      "source": [
        "from sklearn.feature_extraction import DictVectorizer\n",
        "from sklearn.linear_model import LinearRegression\n",
        "from sklearn.metrics import mean_squared_error"
      ],
      "metadata": {
        "id": "U5kOYQswkxZT"
      },
      "execution_count": 2,
      "outputs": []
    },
    {
      "cell_type": "code",
      "source": [
        "TRAIN_FILE_PATH = \"/content/drive/MyDrive/MLOps/ytd/yellow_tripdata_2022-01.parquet\"\n",
        "TEST_FILE_PATH = \"/content/drive/MyDrive/MLOps/ytd/yellow_tripdata_2022-02.parquet\"\n",
        "\n",
        "LOWER_BOUNDARY = 1\n",
        "UPPER_BOUNDARY = 60\n",
        "CATEGORICAL_VAL = ['PULocationID', 'DOLocationID']\n",
        "TARGET_VAL = 'duration'"
      ],
      "metadata": {
        "id": "UNl8vymfEu0l"
      },
      "execution_count": 3,
      "outputs": []
    },
    {
      "cell_type": "code",
      "source": [
        "def read_parquet(file_path, print_status=False):\n",
        "    \"\"\" Q1. Downloading the data \"\"\"\n",
        "\n",
        "    df = pd.read_parquet(file_path)\n",
        "    if print_status:\n",
        "        print(f\"Q1. Number of columns: {len(df.columns)}.\")\n",
        "\n",
        "    return df\n",
        "\n",
        "\n",
        "def compute_duration(df, print_status):\n",
        "    \"\"\" Q2. Computing duration \"\"\"\n",
        "\n",
        "    df['duration'] = df.tpep_dropoff_datetime - df.tpep_pickup_datetime\n",
        "    df.duration = df.duration.apply(lambda td: td.total_seconds() / 60)\n",
        "    if print_status:\n",
        "        print(f\"Q2. The standard deviation of the trip duration in Junuary is {df['duration'].std().round(2)}.\")\n",
        "\n",
        "    return df\n",
        "\n",
        "\n",
        "def drop_outliers(df, lower_limit, higher_limit, print_status):\n",
        "    \"\"\" Q3. Dropping outliers \"\"\"\n",
        "    prev_num_of_records = len(df)\n",
        "    df = df[(df.duration >= lower_limit) & (df.duration <= higher_limit)]\n",
        "    if print_status:\n",
        "        fraction_of_left_records = len(df) / prev_num_of_records\n",
        "        print(f\"Q3. The fraction of records left: {round(fraction_of_left_records, 2)*100}.\")\n",
        "\n",
        "    return df\n",
        "\n",
        "\n",
        "def read_dataframe(file_path, categorical, lower_boundary, upper_boundary, print_status=False):\n",
        "    df = read_parquet(file_path, print_status=print_status)\n",
        "    df = compute_duration(df, print_status=print_status)\n",
        "    df = drop_outliers(df, lower_boundary, upper_boundary, print_status)\n",
        "    df[categorical] = df[categorical].astype(str)\n",
        "    \n",
        "    return df"
      ],
      "metadata": {
        "id": "VI3Z8E8K_yc_"
      },
      "execution_count": 4,
      "outputs": []
    },
    {
      "cell_type": "code",
      "source": [
        "def train_model(df, categorical, target, dv, lr, print_status=False):\n",
        "    # Q4. One-hot encoding\n",
        "    train_dict = df[categorical].to_dict(orient=\"records\")\n",
        "    X_train = dv.fit_transform(train_dict)\n",
        "    if print_status:\n",
        "        print(f\"Q4. The dimensionality of this matrix is {X_train.shape[1]}.\")\n",
        "        \n",
        "    # Q5. Training a model\n",
        "    y_train = df[target].values\n",
        "    lr.fit(X_train, y_train)\n",
        "    \n",
        "    y_pred = lr.predict(X_train)\n",
        "    if print_status:\n",
        "        print(f\"Q5. RMSE on train data: {round(mean_squared_error(y_train, y_pred, squared=False), 2)}\")"
      ],
      "metadata": {
        "id": "fMJAHgDZAoOA"
      },
      "execution_count": 5,
      "outputs": []
    },
    {
      "cell_type": "code",
      "source": [
        "def predict(df, categorical, target, dv, lr, print_status=False):\n",
        "    \"\"\" Q6. Evaluating the model \"\"\"\n",
        "    \n",
        "    val_dicts = df[categorical].to_dict(orient='records')\n",
        "    X_val = dv.transform(val_dicts)\n",
        "\n",
        "    y_val = df[target].values\n",
        "    y_pred = lr.predict(X_val)\n",
        "    if print_status:\n",
        "        print(f\"Q6. RMSE on validation data: {round(mean_squared_error(y_val, y_pred, squared=False), 2)}\")"
      ],
      "metadata": {
        "id": "RFtBJhUVEwLk"
      },
      "execution_count": 6,
      "outputs": []
    },
    {
      "cell_type": "code",
      "source": [
        "# Read data\n",
        "train_df = read_dataframe(TRAIN_FILE_PATH, CATEGORICAL_VAL, LOWER_BOUNDARY, UPPER_BOUNDARY, print_status=True)\n",
        "val_df = read_dataframe(TEST_FILE_PATH, CATEGORICAL_VAL, LOWER_BOUNDARY, UPPER_BOUNDARY, print_status=False)"
      ],
      "metadata": {
        "colab": {
          "base_uri": "https://localhost:8080/"
        },
        "id": "ZIX7x5WCH8eE",
        "outputId": "5370ba86-ee0f-49a5-80df-030a7184b6d4"
      },
      "execution_count": 7,
      "outputs": [
        {
          "output_type": "stream",
          "name": "stdout",
          "text": [
            "Q1. Number of columns: 19.\n",
            "Q2. The standard deviation of the trip duration in Junuary is 46.45.\n",
            "Q3. The fraction of records left: 98.0.\n"
          ]
        }
      ]
    },
    {
      "cell_type": "code",
      "source": [
        "# Train model\n",
        "dv = DictVectorizer()\n",
        "lr = LinearRegression()\n",
        "train_model(train_df, CATEGORICAL_VAL, TARGET_VAL, dv, lr, print_status=True)"
      ],
      "metadata": {
        "colab": {
          "base_uri": "https://localhost:8080/"
        },
        "id": "M_BZ_RT5H6lm",
        "outputId": "2b98cd19-49ab-44b8-8e5e-f413f58f187b"
      },
      "execution_count": 8,
      "outputs": [
        {
          "output_type": "stream",
          "name": "stdout",
          "text": [
            "Q4. The dimensionality of this matrix is 515.\n",
            "Q5. RMSE on train data: 6.99\n"
          ]
        }
      ]
    },
    {
      "cell_type": "code",
      "source": [
        "# Evaluate model\n",
        "predict(val_df, CATEGORICAL_VAL, TARGET_VAL, dv, lr, print_status=True)"
      ],
      "metadata": {
        "colab": {
          "base_uri": "https://localhost:8080/"
        },
        "id": "KtIVL1ISHFFR",
        "outputId": "6a3751cb-6fd3-4f4c-f024-42369c724f6e"
      },
      "execution_count": 9,
      "outputs": [
        {
          "output_type": "stream",
          "name": "stdout",
          "text": [
            "Q6. RMSE on validation data: 7.79\n"
          ]
        }
      ]
    }
  ]
}